{
 "cells": [
  {
   "cell_type": "code",
   "execution_count": 1,
   "metadata": {
    "collapsed": true
   },
   "outputs": [],
   "source": [
    "import numpy as np"
   ]
  },
  {
   "cell_type": "code",
   "execution_count": 2,
   "metadata": {
    "collapsed": true
   },
   "outputs": [],
   "source": [
    "X = np.array([  [0,0,1],\n",
    "                [0,1,1],\n",
    "                [1,0,1],\n",
    "                [1,1,1] ])           \n",
    "y = np.array([[0,0,1,1]]).T"
   ]
  },
  {
   "cell_type": "code",
   "execution_count": 3,
   "metadata": {
    "collapsed": true
   },
   "outputs": [],
   "source": [
    "np.random.seed(1)"
   ]
  },
  {
   "cell_type": "code",
   "execution_count": 24,
   "metadata": {
    "collapsed": true
   },
   "outputs": [],
   "source": [
    "def sigmoid(x):\n",
    "    return 1.0/(1 + np.exp(-x))"
   ]
  },
  {
   "cell_type": "markdown",
   "metadata": {},
   "source": [
    "---\n",
    "两层神经网络\n",
    "---\n",
    "X: 输入训练集，每一行为一个样本  \n",
    "y: 训练集样本标签  \n",
    "layer0: 网络第一层，即输入层  \n",
    "layer1: 网络第二层，即隐藏层  \n",
    "syn0: 第一层权值，连接layer0和layer1  \n",
    "*: 逐元素相乘element-wise  \n",
    "np.dot(a, b): 若a，b为向量，则点积；若a，b均为矩阵，则矩阵相乘；若a，b一个矩阵一个向量，则矩阵乘以向量 \n",
    "\n",
    "---"
   ]
  },
  {
   "cell_type": "code",
   "execution_count": 13,
   "metadata": {},
   "outputs": [
    {
     "name": "stdout",
     "output_type": "stream",
     "text": [
      "layer1_error is: [[ -3.15074698e-03]\n",
      " [ -3.14088783e-03]\n",
      " [  1.67105277e-05]\n",
      " [  3.14580288e-03]]\n",
      "syn0 is: [[  5.76010887e+00]\n",
      " [ -3.13401990e-03]\n",
      " [ -5.76012558e+00]]\n",
      "layer1_error is: [[ -3.09036050e-03]\n",
      " [ -3.08087440e-03]\n",
      " [  1.60785874e-05]\n",
      " [  3.08560374e-03]]\n",
      "syn0 is: [[  5.77946094e+00]\n",
      " [ -3.07426628e-03]\n",
      " [ -5.77947702e+00]]\n",
      "layer1_error is: [[ -3.03331160e-03]\n",
      " [ -3.02417138e-03]\n",
      " [  1.54927080e-05]\n",
      " [  3.02872852e-03]]\n",
      "syn0 is: [[  5.79809397e+00]\n",
      " [ -3.01780412e-03]\n",
      " [ -5.79810946e+00]]\n",
      "layer1_error is: [[ -2.97930398e-03]\n",
      " [ -2.97048531e-03]\n",
      " [  1.49480306e-05]\n",
      " [  2.97488236e-03]]\n",
      "syn0 is: [[  5.81605944e+00]\n",
      " [ -2.96434195e-03]\n",
      " [ -5.81607439e+00]]\n",
      "layer1_error is: [[ -2.92807687e-03]\n",
      " [ -2.91955790e-03]\n",
      " [  1.44403568e-05]\n",
      " [  2.92380572e-03]]\n",
      "syn0 is: [[  5.83340351e+00]\n",
      " [ -2.91362321e-03]\n",
      " [ -5.83341795e+00]]\n",
      "the final output layer1 is:\n",
      " [[ 0.00287942]\n",
      " [ 0.00287118]\n",
      " [ 0.99998603]\n",
      " [ 0.99712471]]\n"
     ]
    }
   ],
   "source": [
    "# initialize weights with mean of 0\n",
    "syn0 = 2 * np.random.random((3,1)) - 1\n",
    "\n",
    "for iter in range(10000):\n",
    "    layer0 = X\n",
    "    layer1 = sigmoid(np.dot(layer0, syn0))\n",
    "    layer1_error = y - layer1\n",
    "    # 误差项加权导数值 layer1_delta\n",
    "    layer1_delta = layer1_error * (layer1 * (1- layer1)) # element-wise\n",
    "    \n",
    "    # update weights\n",
    "    syn0 += np.dot(layer0.T, layer1_delta)\n",
    "    if iter % 2000 == 0:\n",
    "        print(\"layer1_error is: %s\" % layer1_error)\n",
    "        print(\"syn0 is: %s\" % syn0)\n",
    "print(\"the final output layer1 is:\\n %s\"%layer1)"
   ]
  },
  {
   "cell_type": "markdown",
   "metadata": {},
   "source": [
    "---\n",
    "三层神经网络\n",
    "---\n",
    "注意参数更新，BP神经网络\n",
    "\n",
    "---"
   ]
  },
  {
   "cell_type": "code",
   "execution_count": 14,
   "metadata": {
    "collapsed": true
   },
   "outputs": [],
   "source": [
    "# randomly initiaize our weights with mean 0\n",
    "syn0 = 2 * np.random.random((3, 4)) - 1  # (-1, 1)\n",
    "syn1 = 2 * np.random.random((4, 1)) - 1"
   ]
  },
  {
   "cell_type": "code",
   "execution_count": 25,
   "metadata": {},
   "outputs": [
    {
     "name": "stdout",
     "output_type": "stream",
     "text": [
      "Error: 0.00386920107475\n",
      "Error: 0.00356926330795\n",
      "Error: 0.0033288778634\n",
      "Error: 0.00313070058356\n",
      "Error: 0.00296371270044\n",
      "Error: 0.00282053651234\n"
     ]
    }
   ],
   "source": [
    "for j in range(60000):\n",
    "    # feed forward for layer0, layer1, layer2\n",
    "    layer0 = X\n",
    "    layer1 = sigmoid(np.dot(X, syn0))\n",
    "    layer2 = sigmoid(np.dot(layer1, syn1))\n",
    "    \n",
    "    # error\n",
    "    layer2_error = y - layer2\n",
    "    if j % 10000 == 0:\n",
    "        print(\"Error: %s\" % np.mean(np.abs(layer2_error)))\n",
    "    \n",
    "    # delta 误差加权导数\n",
    "    layer2_delta = layer2_error * ((layer2 * ( 1- layer2)))\n",
    "    \n",
    "    # backward propogation\n",
    "    layer1_error = layer2_delta.dot(syn1.T)\n",
    "    layer1_delta = layer1_error * ((layer1 * (1 - layer1)))\n",
    "    \n",
    "    # updata weights\n",
    "    syn1 += layer1.T.dot(layer2_delta)\n",
    "    syn0 += layer0.T.dot(layer1_delta)"
   ]
  },
  {
   "cell_type": "code",
   "execution_count": 26,
   "metadata": {},
   "outputs": [
    {
     "data": {
      "text/plain": [
       "array([[ 0.00290123],\n",
       "       [ 0.99734845],\n",
       "       [ 0.99731685],\n",
       "       [ 0.00254821]])"
      ]
     },
     "execution_count": 26,
     "metadata": {},
     "output_type": "execute_result"
    }
   ],
   "source": [
    "layer2"
   ]
  },
  {
   "cell_type": "code",
   "execution_count": 19,
   "metadata": {},
   "outputs": [],
   "source": [
    "X = np.array([ [0,0,1],[0,1,1],[1,0,1],[1,1,1] ])\n",
    "y = np.array([[0,1,1,0]]).T\n",
    "syn0 = 2*np.random.random((3,4)) - 1\n",
    "syn1 = 2*np.random.random((4,1)) - 1\n",
    "for j in range(60000):\n",
    "    l1 = 1/(1+np.exp(-(np.dot(X,syn0))))\n",
    "    l2 = 1/(1+np.exp(-(np.dot(l1,syn1))))\n",
    "    l2_delta = (y - l2)*(l2*(1-l2))\n",
    "    l1_delta = l2_delta.dot(syn1.T) * (l1 * (1-l1))\n",
    "    syn1 += l1.T.dot(l2_delta)\n",
    "    syn0 += X.T.dot(l1_delta)"
   ]
  },
  {
   "cell_type": "code",
   "execution_count": 20,
   "metadata": {},
   "outputs": [
    {
     "data": {
      "text/plain": [
       "array([[-0.0041365 ],\n",
       "       [ 0.00380296],\n",
       "       [ 0.00384654],\n",
       "       [-0.00369094]])"
      ]
     },
     "execution_count": 20,
     "metadata": {},
     "output_type": "execute_result"
    }
   ],
   "source": [
    "y-l2"
   ]
  },
  {
   "cell_type": "code",
   "execution_count": 27,
   "metadata": {},
   "outputs": [
    {
     "data": {
      "text/plain": [
       "array([[ 0.0041365 ],\n",
       "       [ 0.99619704],\n",
       "       [ 0.99615346],\n",
       "       [ 0.00369094]])"
      ]
     },
     "execution_count": 27,
     "metadata": {},
     "output_type": "execute_result"
    }
   ],
   "source": [
    "l2"
   ]
  },
  {
   "cell_type": "code",
   "execution_count": null,
   "metadata": {
    "collapsed": true
   },
   "outputs": [],
   "source": []
  }
 ],
 "metadata": {
  "kernelspec": {
   "display_name": "Python 3",
   "language": "python",
   "name": "python3"
  },
  "language_info": {
   "codemirror_mode": {
    "name": "ipython",
    "version": 3
   },
   "file_extension": ".py",
   "mimetype": "text/x-python",
   "name": "python",
   "nbconvert_exporter": "python",
   "pygments_lexer": "ipython3",
   "version": "3.6.2"
  }
 },
 "nbformat": 4,
 "nbformat_minor": 2
}
